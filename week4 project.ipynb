{
 "cells": [
  {
   "cell_type": "code",
   "execution_count": 27,
   "id": "ad4c4c84",
   "metadata": {},
   "outputs": [],
   "source": [
    " # question 1\n",
    "def Max(a,b,c): \n",
    "    if a>=b:\n",
    "        if a>=c:\n",
    "            x=int(a)\n",
    "    else:\n",
    "        if b>=c:\n",
    "            x= int(b)\n",
    "        else:\n",
    "            x= int(c)\n",
    "    print(x)"
   ]
  },
  {
   "cell_type": "code",
   "execution_count": 28,
   "id": "56982d94",
   "metadata": {},
   "outputs": [
    {
     "name": "stdout",
     "output_type": "stream",
     "text": [
      "10\n"
     ]
    }
   ],
   "source": [
    "Max(10,1,6)"
   ]
  },
  {
   "cell_type": "code",
   "execution_count": 29,
   "id": "66fefa86",
   "metadata": {},
   "outputs": [
    {
     "name": "stdout",
     "output_type": "stream",
     "text": [
      "20\n"
     ]
    }
   ],
   "source": [
    "Max(11,20,5)"
   ]
  },
  {
   "cell_type": "code",
   "execution_count": 35,
   "id": "6babf2e0",
   "metadata": {},
   "outputs": [],
   "source": [
    "# question 2\n",
    "def calculation(x,y):\n",
    "    a= x+y\n",
    "    b= x-y\n",
    "    return a,b\n",
    "\n",
    "    "
   ]
  },
  {
   "cell_type": "code",
   "execution_count": 37,
   "id": "e15980fc",
   "metadata": {},
   "outputs": [
    {
     "data": {
      "text/plain": [
       "(5, -1)"
      ]
     },
     "execution_count": 37,
     "metadata": {},
     "output_type": "execute_result"
    }
   ],
   "source": [
    "calculation(2,3)"
   ]
  },
  {
   "cell_type": "code",
   "execution_count": 54,
   "id": "d3af33ac",
   "metadata": {},
   "outputs": [],
   "source": [
    "# question 3\n",
    "def sum(L):\n",
    "    a=0\n",
    "    for i in L:\n",
    "        a=a+i\n",
    "    return a\n",
    "\n"
   ]
  },
  {
   "cell_type": "code",
   "execution_count": 55,
   "id": "8a720766",
   "metadata": {},
   "outputs": [
    {
     "data": {
      "text/plain": [
       "14"
      ]
     },
     "execution_count": 55,
     "metadata": {},
     "output_type": "execute_result"
    }
   ],
   "source": [
    "L=[2,3,4,5]\n",
    "sum(L)"
   ]
  },
  {
   "cell_type": "code",
   "execution_count": 60,
   "id": "3d65ee5f",
   "metadata": {},
   "outputs": [],
   "source": [
    "# question 3\n",
    "def multi(L):\n",
    "    a=1\n",
    "    for i in L:\n",
    "        a=a*i\n",
    "    return a\n",
    "def function(L):\n",
    "    list1=[]\n",
    "    list2=[]\n",
    "    n=len(L)\n",
    "    for i in range (0,n):\n",
    "        if i%2==0:\n",
    "            list1.append(L[i])\n",
    "        else:\n",
    "            list2.append(L[i])\n",
    "    return(sum(list2), multi(list1))    \n",
    "    \n",
    "    \n"
   ]
  },
  {
   "cell_type": "code",
   "execution_count": 57,
   "id": "71539004",
   "metadata": {},
   "outputs": [
    {
     "data": {
      "text/plain": [
       "120"
      ]
     },
     "execution_count": 57,
     "metadata": {},
     "output_type": "execute_result"
    }
   ],
   "source": [
    "multi(L)"
   ]
  },
  {
   "cell_type": "code",
   "execution_count": 61,
   "id": "b98ea6f4",
   "metadata": {},
   "outputs": [
    {
     "data": {
      "text/plain": [
       "(8, 8)"
      ]
     },
     "execution_count": 61,
     "metadata": {},
     "output_type": "execute_result"
    }
   ],
   "source": [
    "function(L)"
   ]
  },
  {
   "cell_type": "code",
   "execution_count": 75,
   "id": "1492e6f4",
   "metadata": {},
   "outputs": [],
   "source": [
    "#question 4\n",
    "word= 'green-white-black-yellow-purple'\n",
    "def hyphen(word):\n",
    "    L= word.split('-')\n",
    "    L.sort()\n",
    "    print('-'.join(L))"
   ]
  },
  {
   "cell_type": "code",
   "execution_count": 76,
   "id": "fa5138d1",
   "metadata": {},
   "outputs": [
    {
     "name": "stdout",
     "output_type": "stream",
     "text": [
      "black-green-purple-white-yellow\n"
     ]
    }
   ],
   "source": [
    "hyphen(word)"
   ]
  },
  {
   "cell_type": "code",
   "execution_count": 88,
   "id": "2b8b33c7",
   "metadata": {},
   "outputs": [],
   "source": [
    "# question 5\n",
    "D='100,150,180'\n",
    "def formula(D):\n",
    "    H= D.split(',')\n",
    "    K=[]\n",
    "    for i in H:\n",
    "        a= ((100*int(i))/30)**0.5\n",
    "        K.append(int(a)) \n",
    "    return K"
   ]
  },
  {
   "cell_type": "code",
   "execution_count": 89,
   "id": "9e9e6b67",
   "metadata": {},
   "outputs": [
    {
     "data": {
      "text/plain": [
       "[18, 22, 24]"
      ]
     },
     "execution_count": 89,
     "metadata": {},
     "output_type": "execute_result"
    }
   ],
   "source": [
    "formula(D)"
   ]
  },
  {
   "cell_type": "code",
   "execution_count": null,
   "id": "d395e5c9",
   "metadata": {},
   "outputs": [],
   "source": []
  }
 ],
 "metadata": {
  "kernelspec": {
   "display_name": "Python 3 (ipykernel)",
   "language": "python",
   "name": "python3"
  },
  "language_info": {
   "codemirror_mode": {
    "name": "ipython",
    "version": 3
   },
   "file_extension": ".py",
   "mimetype": "text/x-python",
   "name": "python",
   "nbconvert_exporter": "python",
   "pygments_lexer": "ipython3",
   "version": "3.9.7"
  }
 },
 "nbformat": 4,
 "nbformat_minor": 5
}
